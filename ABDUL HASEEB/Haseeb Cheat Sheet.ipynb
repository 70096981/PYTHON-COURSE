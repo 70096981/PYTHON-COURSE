{
 "cells": [
  {
   "cell_type": "markdown",
   "id": "a2f921c3",
   "metadata": {},
   "source": [
    "name = input('Hi! What's your name?')\n",
    "print('nice to meet you' + name + '!')\n",
    "age = input('How are you old')\n",
    "print('So you are already' + str(age) + 'years old,' + name + '!')"
   ]
  },
  {
   "cell_type": "code",
   "execution_count": 1,
   "id": "8128dd71",
   "metadata": {},
   "outputs": [
    {
     "ename": "SyntaxError",
     "evalue": "invalid syntax (Temp/ipykernel_5768/1173240049.py, line 1)",
     "output_type": "error",
     "traceback": [
      "\u001b[1;36m  File \u001b[1;32m\"C:\\Users\\EMBEDD~1\\AppData\\Local\\Temp/ipykernel_5768/1173240049.py\"\u001b[1;36m, line \u001b[1;32m1\u001b[0m\n\u001b[1;33m    How to store a string in a variable\u001b[0m\n\u001b[1;37m        ^\u001b[0m\n\u001b[1;31mSyntaxError\u001b[0m\u001b[1;31m:\u001b[0m invalid syntax\n"
     ]
    }
   ],
   "source": []
  },
  {
   "cell_type": "code",
   "execution_count": 1,
   "id": "cfc35cdc",
   "metadata": {},
   "outputs": [
    {
     "ename": "SyntaxError",
     "evalue": "invalid syntax (Temp/ipykernel_7528/2674207684.py, line 1)",
     "output_type": "error",
     "traceback": [
      "\u001b[1;36m  File \u001b[1;32m\"C:\\Users\\EMBEDD~1\\AppData\\Local\\Temp/ipykernel_7528/2674207684.py\"\u001b[1;36m, line \u001b[1;32m1\u001b[0m\n\u001b[1;33m    name = input('Hi! What's your name?')\u001b[0m\n\u001b[1;37m                           ^\u001b[0m\n\u001b[1;31mSyntaxError\u001b[0m\u001b[1;31m:\u001b[0m invalid syntax\n"
     ]
    }
   ],
   "source": [
    "name = input('Hi! What's your name?')\n",
    "print('nice to meet you' + name + '!')\n",
    "             \n",
    "age = input('How are you old')\n",
    "print('So you are already' + str(age) + 'years old,' + name + '!')              \n",
    "             "
   ]
  },
  {
   "cell_type": "code",
   "execution_count": null,
   "id": "9c8e96b2",
   "metadata": {},
   "outputs": [],
   "source": []
  }
 ],
 "metadata": {
  "kernelspec": {
   "display_name": "Python 3 (ipykernel)",
   "language": "python",
   "name": "python3"
  },
  "language_info": {
   "codemirror_mode": {
    "name": "ipython",
    "version": 3
   },
   "file_extension": ".py",
   "mimetype": "text/x-python",
   "name": "python",
   "nbconvert_exporter": "python",
   "pygments_lexer": "ipython3",
   "version": "3.9.7"
  }
 },
 "nbformat": 4,
 "nbformat_minor": 5
}
