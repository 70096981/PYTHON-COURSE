{
 "cells": [
  {
   "cell_type": "code",
   "execution_count": 6,
   "id": "96c1d9f8",
   "metadata": {},
   "outputs": [
    {
     "name": "stdout",
     "output_type": "stream",
     "text": [
      "Negative number detected!\n",
      "-1\n"
     ]
    }
   ],
   "source": [
    "numbers = [0, 254, 2, -1, 3]\n",
    "for num in numbers:\n",
    " if (num < 0):\n",
    "    print(\"Negative number detected!\")\n",
    "    break\n",
    "print(num)"
   ]
  },
  {
   "cell_type": "code",
   "execution_count": 7,
   "id": "18dd643c",
   "metadata": {},
   "outputs": [
    {
     "name": "stdout",
     "output_type": "stream",
     "text": [
      "[0, 4, 16, 36, 64]\n"
     ]
    }
   ],
   "source": [
    "result = [x**2 for x in range(10) if x % 2== 0]\n",
    "print(result)"
   ]
  },
  {
   "cell_type": "code",
   "execution_count": 27,
   "id": "eaefd8fe",
   "metadata": {},
   "outputs": [
    {
     "name": "stdout",
     "output_type": "stream",
     "text": [
      "1\n",
      "2\n",
      "3\n",
      "4\n",
      "5\n",
      "-9\n"
     ]
    }
   ],
   "source": [
    "\n",
    "nums = [1,2,3,4,5]\n",
    "for num in nums:\n",
    "    print(num)\n",
    "big_number_list = [1, 2, -1, 4, -5, 5, 2,-9]\n",
    "for i in big_number_list:\n",
    " if i < 0:\n",
    "    continue\n",
    "print(i)"
   ]
  },
  {
   "cell_type": "code",
   "execution_count": 21,
   "id": "05814b2c",
   "metadata": {},
   "outputs": [
    {
     "name": "stdout",
     "output_type": "stream",
     "text": [
      "Jobs\n",
      "Gates\n",
      "Newton\n",
      "Euclid\n",
      "Einstein\n",
      "Feynman\n"
     ]
    }
   ],
   "source": [
    "groups = [[\"Jobs\", \"Gates\"], [\"Newton\",\"Euclid\"], [\"Einstein\", \"Feynman\"]]\n",
    "for group in groups:\n",
    " for name in group:\n",
    "    print(name)\n",
    "        "
   ]
  },
  {
   "cell_type": "code",
   "execution_count": null,
   "id": "168769fa",
   "metadata": {},
   "outputs": [],
   "source": []
  },
  {
   "cell_type": "code",
   "execution_count": null,
   "id": "490ea733",
   "metadata": {},
   "outputs": [],
   "source": []
  }
 ],
 "metadata": {
  "kernelspec": {
   "display_name": "Python 3 (ipykernel)",
   "language": "python",
   "name": "python3"
  },
  "language_info": {
   "codemirror_mode": {
    "name": "ipython",
    "version": 3
   },
   "file_extension": ".py",
   "mimetype": "text/x-python",
   "name": "python",
   "nbconvert_exporter": "python",
   "pygments_lexer": "ipython3",
   "version": "3.9.7"
  }
 },
 "nbformat": 4,
 "nbformat_minor": 5
}
