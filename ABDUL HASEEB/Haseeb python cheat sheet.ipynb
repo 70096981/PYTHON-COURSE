{
 "cells": [
  {
   "cell_type": "code",
   "execution_count": 6,
   "id": "af0ecb1d",
   "metadata": {},
   "outputs": [
    {
     "data": {
      "text/plain": [
       "(True, True)"
      ]
     },
     "execution_count": 6,
     "metadata": {},
     "output_type": "execute_result"
    }
   ],
   "source": [
    "False == (1 > 2), True == (2 > 1)"
   ]
  },
  {
   "cell_type": "code",
   "execution_count": 7,
   "id": "e0475d3b",
   "metadata": {},
   "outputs": [
    {
     "data": {
      "text/plain": [
       "True"
      ]
     },
     "execution_count": 7,
     "metadata": {},
     "output_type": "execute_result"
    }
   ],
   "source": [
    "x, y = True, False\n",
    "(x or y) == True\n",
    "(x and y) == False\n",
    "(not y) == True"
   ]
  },
  {
   "cell_type": "code",
   "execution_count": 8,
   "id": "17fff0e9",
   "metadata": {},
   "outputs": [
    {
     "data": {
      "text/plain": [
       "True"
      ]
     },
     "execution_count": 8,
     "metadata": {},
     "output_type": "execute_result"
    }
   ],
   "source": [
    "(x or y) == True"
   ]
  },
  {
   "cell_type": "code",
   "execution_count": 9,
   "id": "9f5c27c8",
   "metadata": {},
   "outputs": [
    {
     "data": {
      "text/plain": [
       "True"
      ]
     },
     "execution_count": 9,
     "metadata": {},
     "output_type": "execute_result"
    }
   ],
   "source": [
    "(x and y) == False"
   ]
  },
  {
   "cell_type": "code",
   "execution_count": 3,
   "id": "dd44173f",
   "metadata": {},
   "outputs": [
    {
     "name": "stdout",
     "output_type": "stream",
     "text": [
      "hello world\n"
     ]
    }
   ],
   "source": [
    "while(True):\n",
    "    break\n",
    "print(\"hello world\")"
   ]
  },
  {
   "cell_type": "code",
   "execution_count": null,
   "id": "f8052b33",
   "metadata": {},
   "outputs": [],
   "source": [
    "while(True):\n",
    "    continue\n",
    "print(\"43\")    "
   ]
  },
  {
   "cell_type": "code",
   "execution_count": 10,
   "id": "43d521bf",
   "metadata": {},
   "outputs": [],
   "source": [
    "class Beer:\n",
    "    def __init__(self):\n",
    "        self.content = 1.0\n",
    "    def drink(self):\n",
    "           self.content = 0.0\n",
    "becks = Beer()\n",
    "becks.drink()\n",
    "\n"
   ]
  },
  {
   "cell_type": "code",
   "execution_count": 14,
   "id": "26ed445d",
   "metadata": {},
   "outputs": [
    {
     "name": "stdout",
     "output_type": "stream",
     "text": [
      "your value: 9\n",
      "Big\n"
     ]
    }
   ],
   "source": [
    "x = int(input(\"your value: \"))\n",
    "if x > 3: print(\"Big\")\n",
    "elif x == 3: print(\"Medium\")\n",
    "else: print(\"small\")"
   ]
  },
  {
   "cell_type": "code",
   "execution_count": null,
   "id": "aa55f5be",
   "metadata": {},
   "outputs": [],
   "source": []
  },
  {
   "cell_type": "code",
   "execution_count": null,
   "id": "741fb9d7",
   "metadata": {},
   "outputs": [],
   "source": []
  }
 ],
 "metadata": {
  "kernelspec": {
   "display_name": "Python 3 (ipykernel)",
   "language": "python",
   "name": "python3"
  },
  "language_info": {
   "codemirror_mode": {
    "name": "ipython",
    "version": 3
   },
   "file_extension": ".py",
   "mimetype": "text/x-python",
   "name": "python",
   "nbconvert_exporter": "python",
   "pygments_lexer": "ipython3",
   "version": "3.9.7"
  }
 },
 "nbformat": 4,
 "nbformat_minor": 5
}
