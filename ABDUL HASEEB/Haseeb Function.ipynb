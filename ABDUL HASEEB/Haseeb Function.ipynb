{
 "cells": [
  {
   "cell_type": "code",
   "execution_count": 69,
   "id": "cd2fcea0",
   "metadata": {},
   "outputs": [],
   "source": [
    "def write_a_book(character, setting, special_skill):\n",
    "    print(character + ' is in ' + setting + ' practicing her ' + special_skill)"
   ]
  },
  {
   "cell_type": "markdown",
   "id": "b5a1d079",
   "metadata": {},
   "source": [
    "# Deine a Function my_function() with parameter x"
   ]
  },
  {
   "cell_type": "code",
   "execution_count": 74,
   "id": "5c402493",
   "metadata": {},
   "outputs": [],
   "source": [
    "def my_function(x):\n",
    "    return x + 1"
   ]
  },
  {
   "cell_type": "markdown",
   "id": "1e0e8e91",
   "metadata": {},
   "source": [
    "# Invoke The Function"
   ]
  },
  {
   "cell_type": "code",
   "execution_count": 6,
   "id": "5f9edafd",
   "metadata": {},
   "outputs": [
    {
     "name": "stdout",
     "output_type": "stream",
     "text": [
      "3\n",
      "9\n"
     ]
    }
   ],
   "source": [
    "print(my_function(2))\n",
    "print(my_function(3 + 5))"
   ]
  },
  {
   "cell_type": "markdown",
   "id": "b5d6693e",
   "metadata": {},
   "source": [
    "# Indentation is used to identify code blocks"
   ]
  },
  {
   "cell_type": "code",
   "execution_count": 70,
   "id": "495cb94d",
   "metadata": {},
   "outputs": [],
   "source": [
    "def testfunction(number):\n",
    "    print('Inside the testfunction')\n",
    "    sum=0\n",
    "    for x in range(number):\n",
    "        sum+= x\n",
    "    return sum\n",
    "    print('This is not part of testfunction')"
   ]
  },
  {
   "cell_type": "code",
   "execution_count": 17,
   "id": "1d517cd3",
   "metadata": {},
   "outputs": [
    {
     "data": {
      "text/plain": [
       "<function __main__.testfunction(number)>"
      ]
     },
     "execution_count": 17,
     "metadata": {},
     "output_type": "execute_result"
    }
   ],
   "source": [
    "testfunction"
   ]
  },
  {
   "cell_type": "markdown",
   "id": "489823c6",
   "metadata": {},
   "source": [
    "# Function Keyword Arguments"
   ]
  },
  {
   "cell_type": "code",
   "execution_count": 18,
   "id": "b5167173",
   "metadata": {},
   "outputs": [
    {
     "name": "stdout",
     "output_type": "stream",
     "text": [
      "length = 1\n",
      "width = 2\n",
      "depth = 3\n",
      "length = 5\n",
      "width = 4\n",
      "depth = 2\n",
      "length = 2\n",
      "width = 4\n",
      "depth = 3\n"
     ]
    },
    {
     "data": {
      "text/plain": [
       "24"
      ]
     },
     "execution_count": 18,
     "metadata": {},
     "output_type": "execute_result"
    }
   ],
   "source": [
    "def findvolume(length=1, width=1, depth=1):\n",
    "    print('length = ' + str(length))\n",
    "    print('width = ' + str(width))\n",
    "    print('depth = ' + str(depth))\n",
    "    return length * width * depth;\n",
    "\n",
    "findvolume(1, 2, 3)\n",
    "findvolume(length=5, depth=2, width=4)\n",
    "findvolume(2, depth=3, width=4)"
   ]
  },
  {
   "cell_type": "code",
   "execution_count": 25,
   "id": "9803aa5c",
   "metadata": {},
   "outputs": [
    {
     "name": "stdout",
     "output_type": "stream",
     "text": [
      "5\n"
     ]
    }
   ],
   "source": [
    "def square_point(x, y, z):\n",
    "    x_squared = x * x\n",
    "    y_squared = y * y\n",
    "    z_squared = z * z\n",
    "    return x_squared, y_squared, z_squared,\n",
    "three_squared, four_squared, five_squared = square_point(3, 4, 5)\n",
    "\n",
    "a = 5\n",
    "def fi():\n",
    "    a = 2\n",
    "    print(a)\n",
    "    \n",
    "print(a)\n"
   ]
  },
  {
   "cell_type": "code",
   "execution_count": 23,
   "id": "779a366a",
   "metadata": {},
   "outputs": [
    {
     "data": {
      "text/plain": [
       "<function __main__.square_point(x, y, z)>"
      ]
     },
     "execution_count": 23,
     "metadata": {},
     "output_type": "execute_result"
    }
   ],
   "source": [
    "square_point"
   ]
  },
  {
   "cell_type": "code",
   "execution_count": 78,
   "id": "d9dda3ef",
   "metadata": {},
   "outputs": [
    {
     "name": "stdout",
     "output_type": "stream",
     "text": [
      "2018 is not a leap year.\n"
     ]
    }
   ],
   "source": [
    "def check_leap_year(year):\n",
    "    if year % 4 == 0:\n",
    "        return str(year) + ' is a leap year.'\n",
    "    else:\n",
    "        return str(year) + ' is not a leap year.'\n",
    "    \n",
    "year_to_check = 2018\n",
    "returend_value = check_leap_year(year_to_check)\n",
    "print(returend_value)"
   ]
  },
  {
   "cell_type": "code",
   "execution_count": 47,
   "id": "37f7e617",
   "metadata": {},
   "outputs": [
    {
     "name": "stdout",
     "output_type": "stream",
     "text": [
      "Hello\n"
     ]
    }
   ],
   "source": [
    "a = 'Hello'\n",
    "def prints_a():\n",
    "        print(a)\n",
    "prints_a()"
   ]
  },
  {
   "cell_type": "code",
   "execution_count": 57,
   "id": "08536942",
   "metadata": {},
   "outputs": [
    {
     "name": "stdout",
     "output_type": "stream",
     "text": [
      "12\n",
      "12\n"
     ]
    }
   ],
   "source": [
    "def my_function(value):\n",
    "        print(12)\n",
    "my_function(7)\n",
    "print(12)"
   ]
  },
  {
   "cell_type": "code",
   "execution_count": null,
   "id": "b70e94b6",
   "metadata": {},
   "outputs": [],
   "source": []
  }
 ],
 "metadata": {
  "kernelspec": {
   "display_name": "Python 3 (ipykernel)",
   "language": "python",
   "name": "python3"
  },
  "language_info": {
   "codemirror_mode": {
    "name": "ipython",
    "version": 3
   },
   "file_extension": ".py",
   "mimetype": "text/x-python",
   "name": "python",
   "nbconvert_exporter": "python",
   "pygments_lexer": "ipython3",
   "version": "3.9.7"
  }
 },
 "nbformat": 4,
 "nbformat_minor": 5
}
