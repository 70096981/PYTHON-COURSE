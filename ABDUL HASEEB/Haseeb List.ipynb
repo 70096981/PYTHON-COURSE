{
 "cells": [
  {
   "cell_type": "markdown",
   "id": "d26d24bb",
   "metadata": {},
   "source": [
    "# list"
   ]
  },
  {
   "cell_type": "code",
   "execution_count": 1,
   "id": "1f39abbe",
   "metadata": {},
   "outputs": [
    {
     "name": "stdout",
     "output_type": "stream",
     "text": [
      "[2, 3, 5, 7, 11]\n"
     ]
    }
   ],
   "source": [
    "primes = [2, 3, 5, 7, 11]\n",
    "print(primes)\n",
    "\n",
    "empty_list = []"
   ]
  },
  {
   "cell_type": "code",
   "execution_count": 2,
   "id": "24bd1789",
   "metadata": {},
   "outputs": [
    {
     "name": "stdout",
     "output_type": "stream",
     "text": [
      "['cake', 'cookie', 'bread', 'biscuit', 'tart']\n"
     ]
    }
   ],
   "source": [
    "items = ['cake', 'cookie', 'bread']\n",
    "total_items = items + ['biscuit', 'tart']\n",
    "print(total_items)\n"
   ]
  },
  {
   "cell_type": "code",
   "execution_count": 1,
   "id": "a884bbb0",
   "metadata": {},
   "outputs": [],
   "source": [
    "numbers = [1, 2, 3, 4, 5]\n",
    "names = ['d', 'e', 'f']\n",
    "mixed = ['d', 1, 2]\n"
   ]
  },
  {
   "cell_type": "code",
   "execution_count": null,
   "id": "38ee8006",
   "metadata": {},
   "outputs": [],
   "source": []
  },
  {
   "cell_type": "code",
   "execution_count": 7,
   "id": "e7b6837e",
   "metadata": {},
   "outputs": [],
   "source": [
    "numbers = [1, 2, 3, 4, 5]\n",
    "names = ['Jenny', 'Haseeb', 'Afaq']\n",
    "mixed = ['Afaq', 1, 2]\n",
    "list_of_lists = [['a', 1], ['b', 2]]\n"
   ]
  },
  {
   "cell_type": "code",
   "execution_count": null,
   "id": "7a36a907",
   "metadata": {},
   "outputs": [],
   "source": []
  },
  {
   "cell_type": "markdown",
   "id": "8be591bd",
   "metadata": {},
   "source": [
    "# # list"
   ]
  },
  {
   "cell_type": "code",
   "execution_count": 9,
   "id": "b45ef0ee",
   "metadata": {},
   "outputs": [
    {
     "name": "stdout",
     "output_type": "stream",
     "text": [
      "[2, 3, 5, 7, 11]\n"
     ]
    }
   ],
   "source": [
    "primes = [2, 3, 5, 7, 11]\n",
    "print(primes)\n",
    "empty_list = []"
   ]
  },
  {
   "cell_type": "code",
   "execution_count": 10,
   "id": "481fe777",
   "metadata": {},
   "outputs": [
    {
     "name": "stdout",
     "output_type": "stream",
     "text": [
      "['apple', 'mango', 'bear', 'cat']\n"
     ]
    }
   ],
   "source": [
    "orders = ['apple', 'mango', 'bear']\n",
    "orders.append('cat')\n",
    "print(orders)\n"
   ]
  },
  {
   "cell_type": "code",
   "execution_count": 11,
   "id": "18a57aa2",
   "metadata": {},
   "outputs": [
    {
     "data": {
      "text/plain": [
       "['blueberry', 'cranberry']"
      ]
     },
     "execution_count": 11,
     "metadata": {},
     "output_type": "execute_result"
    }
   ],
   "source": [
    "berries = ['blueberry', 'cranberry', 'raspberry', 'calberry']\n",
    "berries[0]\n",
    "berries[1]\n",
    "berries[2]\n",
    "berries[3]\n",
    "berries[:-2]"
   ]
  },
  {
   "cell_type": "code",
   "execution_count": 17,
   "id": "37a58b72",
   "metadata": {},
   "outputs": [
    {
     "data": {
      "text/plain": [
       "['blueberry', 'cranberry']"
      ]
     },
     "execution_count": 17,
     "metadata": {},
     "output_type": "execute_result"
    }
   ],
   "source": [
    "soups = ['blueberry', 'cranberry', 'raspberry', 'calberry']\n",
    "soups[-1:]\n",
    "soups[-3:]\n",
    "soups[-2:]\n",
    "soups[:-2]"
   ]
  },
  {
   "cell_type": "code",
   "execution_count": 25,
   "id": "bb8f975c",
   "metadata": {},
   "outputs": [
    {
     "name": "stdout",
     "output_type": "stream",
     "text": [
      "[['Haseeb', 'Afaq'], ['Asad', 'Photography'], ['Abc', 'Source']]\n"
     ]
    }
   ],
   "source": [
    "class_name_hobbies = [['Haseeb', 'Afaq'], ['Asad', 'Photography'], ['Grace', 'Source']]\n",
    "class_name_hobbies[2][0] = 'Abc'\n",
    "print(class_name_hobbies)"
   ]
  },
  {
   "cell_type": "code",
   "execution_count": 26,
   "id": "eec9f58f",
   "metadata": {},
   "outputs": [
    {
     "name": "stdout",
     "output_type": "stream",
     "text": [
      "6\n"
     ]
    }
   ],
   "source": [
    "heights = [['Afaq', 5.7], ['Ali', 6]]\n",
    "Afaq_heights = heights[1][1]\n",
    "print(Afaq_heights)"
   ]
  },
  {
   "cell_type": "code",
   "execution_count": 28,
   "id": "0ffe0145",
   "metadata": {},
   "outputs": [
    {
     "name": "stdout",
     "output_type": "stream",
     "text": [
      "['Shirt', 'Trouser']\n"
     ]
    }
   ],
   "source": [
    "shopping = ['Shirt', 'Pent', 'Trouser']\n",
    "shopping.remove('Pent')\n",
    "print(shopping)"
   ]
  },
  {
   "cell_type": "code",
   "execution_count": 32,
   "id": "a1ea8032",
   "metadata": {},
   "outputs": [
    {
     "name": "stdout",
     "output_type": "stream",
     "text": [
      "4\n"
     ]
    }
   ],
   "source": [
    "counts = ['Pen', 'Pen', 'Pen', 'Pen', 'Marker', 'Marker']\n",
    "a = counts.count('Pen')\n",
    "print(a)"
   ]
  },
  {
   "cell_type": "code",
   "execution_count": 33,
   "id": "4b72bba0",
   "metadata": {},
   "outputs": [
    {
     "name": "stdout",
     "output_type": "stream",
     "text": [
      "[1, 2, 3, 4]\n"
     ]
    }
   ],
   "source": [
    "exampleList = [4, 2, 1, 3]\n",
    "exampleList.sort()\n",
    "print(exampleList)"
   ]
  },
  {
   "cell_type": "code",
   "execution_count": 1,
   "id": "90607c22",
   "metadata": {},
   "outputs": [],
   "source": [
    "tools = ['pen', 'hammer', 'lever']\n",
    "tools_slice = tools[1:3] \n",
    "tools_slice[0] = 'nail'"
   ]
  },
  {
   "cell_type": "code",
   "execution_count": 2,
   "id": "253b7c3a",
   "metadata": {},
   "outputs": [
    {
     "name": "stdout",
     "output_type": "stream",
     "text": [
      "['Python', 'Data Structures', 'Balloon Making', 'Algorithms']\n",
      "Clowns101\n"
     ]
    }
   ],
   "source": [
    "cs_topics = [\"Python\", \"Data Structures\", \"Balloon Making\", \"Algorithms\", \"Clowns101\"]\n",
    "removed_element = cs_topics.pop()\n",
    "print(cs_topics)\n",
    "print(removed_element)"
   ]
  },
  {
   "cell_type": "code",
   "execution_count": 3,
   "id": "a16834e1",
   "metadata": {},
   "outputs": [
    {
     "name": "stdout",
     "output_type": "stream",
     "text": [
      "['Python', 'Data Structures', 'Algorithms']\n"
     ]
    }
   ],
   "source": [
    "cs_topics.pop(2)\n",
    "print(cs_topics)"
   ]
  },
  {
   "cell_type": "code",
   "execution_count": null,
   "id": "877175c9",
   "metadata": {},
   "outputs": [],
   "source": []
  }
 ],
 "metadata": {
  "kernelspec": {
   "display_name": "Python 3 (ipykernel)",
   "language": "python",
   "name": "python3"
  },
  "language_info": {
   "codemirror_mode": {
    "name": "ipython",
    "version": 3
   },
   "file_extension": ".py",
   "mimetype": "text/x-python",
   "name": "python",
   "nbconvert_exporter": "python",
   "pygments_lexer": "ipython3",
   "version": "3.9.7"
  }
 },
 "nbformat": 4,
 "nbformat_minor": 5
}
