{
 "cells": [
  {
   "cell_type": "code",
   "execution_count": 2,
   "id": "b17ae279",
   "metadata": {},
   "outputs": [
    {
     "name": "stdout",
     "output_type": "stream",
     "text": [
      "enter a =5\n",
      "enter b =3\n",
      "opt*\n",
      "15\n"
     ]
    }
   ],
   "source": [
    "a=int(input('enter a ='))\n",
    "b=int(input('enter b ='))\n",
    "opt=input('opt')\n",
    "if opt=='+':\n",
    "    c=a+b\n",
    "    print(c)\n",
    "if opt=='-':\n",
    "    d=a-b\n",
    "    print(d)\n",
    "if opt=='*':\n",
    "    e=a*b\n",
    "    print(e)\n",
    "if opt=='/':\n",
    "    f=a/b\n",
    "    print(f)"
   ]
  },
  {
   "cell_type": "code",
   "execution_count": null,
   "id": "89608ec1",
   "metadata": {},
   "outputs": [],
   "source": []
  },
  {
   "cell_type": "code",
   "execution_count": null,
   "id": "90459017",
   "metadata": {},
   "outputs": [],
   "source": []
  }
 ],
 "metadata": {
  "kernelspec": {
   "display_name": "Python 3 (ipykernel)",
   "language": "python",
   "name": "python3"
  },
  "language_info": {
   "codemirror_mode": {
    "name": "ipython",
    "version": 3
   },
   "file_extension": ".py",
   "mimetype": "text/x-python",
   "name": "python",
   "nbconvert_exporter": "python",
   "pygments_lexer": "ipython3",
   "version": "3.9.7"
  }
 },
 "nbformat": 4,
 "nbformat_minor": 5
}
